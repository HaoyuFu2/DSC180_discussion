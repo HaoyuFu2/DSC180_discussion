{
 "cells": [
  {
   "cell_type": "code",
   "execution_count": 1,
   "metadata": {},
   "outputs": [],
   "source": [
    "import regex as re\n",
    "import pandas as pd "
   ]
  },
  {
   "cell_type": "code",
   "execution_count": 2,
   "metadata": {},
   "outputs": [],
   "source": [
    "def read_data(path):\n",
    "    \"\"\"\n",
    "    Read the file from the given path as a Pandas dataframe\n",
    "    \n",
    "    :param path: the path to the original csv file\n",
    "    \"\"\"\n",
    "    df = pd.read_csv(path, lineterminator='\\n')\n",
    "    return df"
   ]
  },
  {
   "cell_type": "code",
   "execution_count": 3,
   "metadata": {},
   "outputs": [],
   "source": [
    "def clean_tweet(tweet, link=True, mention=True, hashtag=True):\n",
    "    \"\"\"\n",
    "    Clean a tweet String based on given parameters:\n",
    "\n",
    "    :param tweet: tweet String to be cleaned\n",
    "    :param link: whether remove the links\n",
    "    :param mention: whether remove the mention (@user_id)\n",
    "    :param hashtag: whether remove the hashtag (#topic)\n",
    "    :return: cleaned tweet String\n",
    "    \"\"\"\n",
    "    re_pattern = []\n",
    "    if link: re_pattern.append('http\\S+')\n",
    "    if mention: re_pattern.append('@\\S+')\n",
    "    if hashtag: re_pattern.append('#\\S+')\n",
    "    re_pattern = \"|\".join(re_pattern)\n",
    "\n",
    "    tweet = str(tweet)\n",
    "    tweet = re.sub(re_pattern, '', tweet)\n",
    "    return tweet.strip()"
   ]
  },
  {
   "cell_type": "code",
   "execution_count": 4,
   "metadata": {},
   "outputs": [],
   "source": [
    "def filter_tweets(df, min_tweet_count=20, min_word_count=0):\n",
    "    \"\"\"\n",
    "    Filter out tweets with less than 'min_word_count' words\n",
    "    and users with less than 'min_tweet_count' distinct tweets.\n",
    "\n",
    "    :param df: DataFrame containing tweet data with columns 'tweet' and 'user_id'\n",
    "    :param min_tweet_count: Minimum number of distinct tweets a user should have\n",
    "    :param min_word_count: Minimum word count of a tweet\n",
    "    :return: DataFrame with filtered users and their tweets\n",
    "    \"\"\"\n",
    "    out = df[[\"tweet\",\"user_id\"]]\n",
    "\n",
    "    # Drop N/A user id\n",
    "    out = out.dropna(subset=['user_id'])\n",
    "\n",
    "    # Remove URLs\n",
    "    out['tweet'] = out['tweet'].astype(str)\n",
    "    out[\"cleaned_tweets\"] = out[\"tweet\"].apply(clean_tweet)\n",
    "\n",
    "    # Drop duplicate tweets from the same user\n",
    "    out = out.drop_duplicates(subset=['user_id', 'cleaned_tweets'])\n",
    "\n",
    "    # Remove tweets that are less than min_word_count words\n",
    "    out = out[\n",
    "        out['cleaned_tweets'].str.split().str.len() \n",
    "        >= min_word_count\n",
    "        ]\n",
    "\n",
    "    # Remove users who has less than min_tweet_count tweets\n",
    "    user_count = out['user_id'].value_counts()\n",
    "    valid_users = user_count[user_count >= min_tweet_count].index\n",
    "    out = out[out['user_id'].isin(valid_users)]\n",
    "\n",
    "    return out[['user_id', 'cleaned_tweets']]"
   ]
  },
  {
   "cell_type": "code",
   "execution_count": 5,
   "metadata": {},
   "outputs": [
    {
     "name": "stdout",
     "output_type": "stream",
     "text": [
      "(970919, 21) (776886, 21)\n"
     ]
    }
   ],
   "source": [
    "trump_path = \"data/hashtag_donaldtrump.csv\"\n",
    "biden_path = \"data/hashtag_joebiden.csv\"\n",
    "\n",
    "trump = read_data(trump_path)\n",
    "biden = read_data(biden_path)\n",
    "\n",
    "print(trump.shape, biden.shape)"
   ]
  },
  {
   "cell_type": "code",
   "execution_count": 6,
   "metadata": {},
   "outputs": [
    {
     "name": "stdout",
     "output_type": "stream",
     "text": [
      "(287548, 2) (147997, 2)\n"
     ]
    }
   ],
   "source": [
    "trump_clean = filter_tweets(trump)\n",
    "biden_clean = filter_tweets(biden)\n",
    "print(trump_clean.shape, biden_clean.shape)"
   ]
  },
  {
   "cell_type": "code",
   "execution_count": 7,
   "metadata": {},
   "outputs": [],
   "source": [
    "trump_clean.to_csv('data/cleaned_tweets_biden.csv')\n",
    "biden_clean.to_csv('data/cleaned_tweets_trump.csv')"
   ]
  }
 ],
 "metadata": {
  "kernelspec": {
   "display_name": "base",
   "language": "python",
   "name": "python3"
  },
  "language_info": {
   "codemirror_mode": {
    "name": "ipython",
    "version": 3
   },
   "file_extension": ".py",
   "mimetype": "text/x-python",
   "name": "python",
   "nbconvert_exporter": "python",
   "pygments_lexer": "ipython3",
   "version": "3.9.7"
  }
 },
 "nbformat": 4,
 "nbformat_minor": 2
}
