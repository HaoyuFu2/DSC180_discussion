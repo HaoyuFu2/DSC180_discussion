{
 "cells": [
  {
   "cell_type": "markdown",
   "id": "caccb3fc",
   "metadata": {},
   "source": [
    "### Installing packages and import"
   ]
  },
  {
   "cell_type": "code",
   "execution_count": 1,
   "id": "b6bbc7eb",
   "metadata": {},
   "outputs": [],
   "source": [
    "# pip install regex"
   ]
  },
  {
   "cell_type": "code",
   "execution_count": 2,
   "id": "0f01fbad",
   "metadata": {},
   "outputs": [],
   "source": [
    "# pip install tabulate"
   ]
  },
  {
   "cell_type": "code",
   "execution_count": 3,
   "id": "568290b6",
   "metadata": {},
   "outputs": [],
   "source": [
    "import regex as re\n",
    "import pandas as pd "
   ]
  },
  {
   "cell_type": "code",
   "execution_count": 4,
   "id": "58d7b11f",
   "metadata": {},
   "outputs": [],
   "source": [
    "biden = pd.read_csv(\"hashtag_joebiden.csv\", lineterminator='\\n')"
   ]
  },
  {
   "cell_type": "markdown",
   "id": "cfc3fa55",
   "metadata": {},
   "source": [
    "Remove URLs, drop unecessary columns"
   ]
  },
  {
   "cell_type": "code",
   "execution_count": 5,
   "id": "57b2889e",
   "metadata": {},
   "outputs": [],
   "source": [
    "def clean_tweet(tweet):\n",
    "    \"\"\"Remove URLs, mentions, and hashtags from a tweet.\"\"\"\n",
    "    tweet = str(tweet)\n",
    "    tweet = re.sub(r'http\\S+', '', tweet)\n",
    "\n",
    "    # tweet = re.sub(r'@\\S+', '', tweet)\n",
    "    # tweet = re.sub(r'#\\S+', '', tweet)\n",
    "    return tweet.strip()"
   ]
  },
  {
   "cell_type": "code",
   "execution_count": 6,
   "id": "7c44337a",
   "metadata": {},
   "outputs": [
    {
     "name": "stderr",
     "output_type": "stream",
     "text": [
      "/var/folders/b4/dlbgv7zs05g7w0k53yzn8vz80000gn/T/ipykernel_15845/1781050159.py:2: SettingWithCopyWarning: \n",
      "A value is trying to be set on a copy of a slice from a DataFrame.\n",
      "Try using .loc[row_indexer,col_indexer] = value instead\n",
      "\n",
      "See the caveats in the documentation: https://pandas.pydata.org/pandas-docs/stable/user_guide/indexing.html#returning-a-view-versus-a-copy\n",
      "  cleaned['tweet'] = cleaned['tweet'].astype(str)\n"
     ]
    }
   ],
   "source": [
    "cleaned = biden[[\"tweet\",\"user_id\"]]\n",
    "cleaned['tweet'] = cleaned['tweet'].astype(str)\n",
    "cleaned = cleaned.dropna(subset=['user_id'])\n",
    "cleaned[\"cleaned_tweets\"] = biden[\"tweet\"].apply(clean_tweet)\n",
    "cleaned = cleaned[['cleaned_tweets','user_id']]"
   ]
  },
  {
   "cell_type": "markdown",
   "id": "91005c9e",
   "metadata": {},
   "source": [
    "Drop users whose tweet counts are less than 5 or greater than 200"
   ]
  },
  {
   "cell_type": "code",
   "execution_count": 7,
   "id": "3287bd23",
   "metadata": {},
   "outputs": [],
   "source": [
    "user_count = (pd.DataFrame(cleaned['user_id'].value_counts())\n",
    "              .reset_index()\n",
    "              .rename(columns={'user_id': 'count'})\n",
    "              .rename(columns={'index': 'user_id'})\n",
    "             )\n",
    "user_count = user_count.merge(cleaned, on='user_id', how='left')\n",
    "user_count = user_count[user_count['count'] <= 200]\n",
    "user_count = user_count[user_count['count'] >= 5]\n",
    "cleaned = user_count[['user_id','cleaned_tweets']]"
   ]
  },
  {
   "cell_type": "markdown",
   "id": "a9ded8b2",
   "metadata": {},
   "source": [
    "Save the cleaned dataset"
   ]
  },
  {
   "cell_type": "code",
   "execution_count": 8,
   "id": "e2db59db",
   "metadata": {},
   "outputs": [],
   "source": [
    "cleaned.to_csv('cleaned_tweets_biden.csv')"
   ]
  },
  {
   "cell_type": "markdown",
   "id": "418e4805",
   "metadata": {},
   "source": [
    "### Same cleaning for Trump data"
   ]
  },
  {
   "cell_type": "code",
   "execution_count": 9,
   "id": "0b2c65ed",
   "metadata": {},
   "outputs": [],
   "source": [
    "trump = pd.read_csv(\"hashtag_donaldtrump.csv\", lineterminator='\\n')"
   ]
  },
  {
   "cell_type": "code",
   "execution_count": 10,
   "id": "0928f953",
   "metadata": {},
   "outputs": [
    {
     "name": "stderr",
     "output_type": "stream",
     "text": [
      "/var/folders/b4/dlbgv7zs05g7w0k53yzn8vz80000gn/T/ipykernel_15845/2428131620.py:2: SettingWithCopyWarning: \n",
      "A value is trying to be set on a copy of a slice from a DataFrame.\n",
      "Try using .loc[row_indexer,col_indexer] = value instead\n",
      "\n",
      "See the caveats in the documentation: https://pandas.pydata.org/pandas-docs/stable/user_guide/indexing.html#returning-a-view-versus-a-copy\n",
      "  cleaned['tweet'] = cleaned['tweet'].astype(str)\n"
     ]
    }
   ],
   "source": [
    "cleaned = trump[[\"tweet\",\"user_id\"]]\n",
    "cleaned['tweet'] = cleaned['tweet'].astype(str)\n",
    "cleaned = cleaned.dropna(subset=['user_id'])\n",
    "cleaned[\"cleaned_tweets\"] = trump[\"tweet\"].apply(clean_tweet)\n",
    "cleaned = cleaned[['cleaned_tweets','user_id']]"
   ]
  },
  {
   "cell_type": "code",
   "execution_count": 11,
   "id": "71331d7f",
   "metadata": {},
   "outputs": [],
   "source": [
    "user_count = (pd.DataFrame(cleaned['user_id'].value_counts())\n",
    "              .reset_index()\n",
    "              .rename(columns={'user_id': 'count'})\n",
    "              .rename(columns={'index': 'user_id'})\n",
    "             )\n",
    "user_count = user_count.merge(cleaned, on='user_id', how='left')\n",
    "user_count = user_count[user_count['count'] <= 200]\n",
    "user_count = user_count[user_count['count'] >= 5]\n",
    "cleaned = user_count[['user_id','cleaned_tweets']]"
   ]
  },
  {
   "cell_type": "code",
   "execution_count": 12,
   "id": "37408c0e",
   "metadata": {},
   "outputs": [],
   "source": [
    "cleaned.to_csv('cleaned_tweets_trump.csv')"
   ]
  }
 ],
 "metadata": {
  "kernelspec": {
   "display_name": "Python 3 (ipykernel)",
   "language": "python",
   "name": "python3"
  },
  "language_info": {
   "codemirror_mode": {
    "name": "ipython",
    "version": 3
   },
   "file_extension": ".py",
   "mimetype": "text/x-python",
   "name": "python",
   "nbconvert_exporter": "python",
   "pygments_lexer": "ipython3",
   "version": "3.9.7"
  }
 },
 "nbformat": 4,
 "nbformat_minor": 5
}
